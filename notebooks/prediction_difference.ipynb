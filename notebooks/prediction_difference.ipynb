{
 "cells": [
  {
   "cell_type": "markdown",
   "id": "fdd89c45",
   "metadata": {},
   "source": [
    "## Load Config"
   ]
  },
  {
   "cell_type": "code",
   "execution_count": 22,
   "id": "d6c02b61",
   "metadata": {},
   "outputs": [],
   "source": [
    "config_1 = \"+experiment=jigsaw_test\"\n",
    "model_path_1 = \"/Users/duc/Desktop/Projects/adapters-vs-fairness/checkpoints/last-v30.ckpt\"\n",
    "\n",
    "config_2 = \"+experiment=jigsaw_test\"\n",
    "model_path_2 = \"/Users/duc/Desktop/Projects/adapters-vs-fairness/checkpoints/last-v29.ckpt\""
   ]
  },
  {
   "cell_type": "code",
   "execution_count": 20,
   "id": "ba19c6ce",
   "metadata": {},
   "outputs": [
    {
     "name": "stderr",
     "output_type": "stream",
     "text": [
      "/Users/duc/anaconda3/envs/adapters_fairness_notebook/lib/python3.9/site-packages/hydra/_internal/defaults_list.py:251: UserWarning: In 'config.yaml': Defaults list is missing `_self_`. See https://hydra.cc/docs/1.2/upgrades/1.0_to_1.1/default_composition_order for more information\n",
      "  warnings.warn(msg, UserWarning)\n",
      "Global seed set to 42\n"
     ]
    }
   ],
   "source": [
    "from src.module.jigsaw_classification import JigsawClassification\n",
    "from pytorch_lightning import (\n",
    "    seed_everything\n",
    ")\n",
    "import hydra\n",
    "from omegaconf import OmegaConf\n",
    "from hydra import initialize, initialize_config_module, initialize_config_dir, compose\n",
    "import os\n",
    "import sys\n",
    "sys.path.append(\"..\")  # Add the parent directory to the system path\n",
    "\n",
    "\n",
    "with initialize(version_base=None, config_path=\"../configs\"):\n",
    "    config_1 = compose(config_name=\"config.yaml\", overrides=[config_1])\n",
    "    config_2 = compose(config_name=\"config.yaml\", overrides=[config_2])\n",
    "\n",
    "# Set seed for random number generators in pytorch, numpy and python.random\n",
    "if \"seed\" in config_1:\n",
    "    seed_everything(config_1.seed, workers=True)"
   ]
  },
  {
   "cell_type": "markdown",
   "id": "1448b024",
   "metadata": {},
   "source": [
    "## Get Predictions on Test Set"
   ]
  },
  {
   "cell_type": "code",
   "execution_count": 21,
   "id": "e884f60d",
   "metadata": {},
   "outputs": [
    {
     "name": "stderr",
     "output_type": "stream",
     "text": [
      "GPU available: True (mps), used: True\n",
      "TPU available: False, using: 0 TPU cores\n",
      "IPU available: False, using: 0 IPUs\n",
      "HPU available: False, using: 0 HPUs\n",
      "`Trainer(val_check_interval=1.0)` was configured so validation will run at the end of the training epoch..\n"
     ]
    }
   ],
   "source": [
    "module_1 = hydra.utils.instantiate(config_1.module)\n",
    "module_2 = hydra.utils.instantiate(config_2.module)\n",
    "datamodule = hydra.utils.instantiate(config_1.datamodule)\n",
    "trainer = hydra.utils.instantiate(\n",
    "    config_1.trainer, _convert_=\"partial\"\n",
    ")"
   ]
  },
  {
   "cell_type": "code",
   "execution_count": 41,
   "id": "0fc866fb",
   "metadata": {},
   "outputs": [
    {
     "name": "stderr",
     "output_type": "stream",
     "text": [
      "Load CSV File...\n",
      "Create coarsed grained annotation...\n",
      "Tokenize Dataset...\n",
      "Map: 100%|██████████| 1000/1000 [00:00<00:00, 5376.73 examples/s]\n",
      "Some weights of the model checkpoint at distilbert-base-uncased were not used when initializing DistilBertForSequenceClassification: ['vocab_transform.weight', 'vocab_layer_norm.bias', 'vocab_transform.bias', 'vocab_layer_norm.weight', 'vocab_projector.bias']\n",
      "- This IS expected if you are initializing DistilBertForSequenceClassification from the checkpoint of a model trained on another task or with another architecture (e.g. initializing a BertForSequenceClassification model from a BertForPreTraining model).\n",
      "- This IS NOT expected if you are initializing DistilBertForSequenceClassification from the checkpoint of a model that you expect to be exactly identical (initializing a BertForSequenceClassification model from a BertForSequenceClassification model).\n",
      "Some weights of DistilBertForSequenceClassification were not initialized from the model checkpoint at distilbert-base-uncased and are newly initialized: ['classifier.bias', 'pre_classifier.bias', 'classifier.weight', 'pre_classifier.weight']\n",
      "You should probably TRAIN this model on a down-stream task to be able to use it for predictions and inference.\n",
      "Restoring states from the checkpoint path at /Users/duc/Desktop/Projects/adapters-vs-fairness/checkpoints/last-v30.ckpt\n",
      "Loaded model weights from the checkpoint at /Users/duc/Desktop/Projects/adapters-vs-fairness/checkpoints/last-v30.ckpt\n",
      "/Users/duc/anaconda3/envs/adapters_fairness_notebook/lib/python3.9/site-packages/pytorch_lightning/trainer/connectors/data_connector.py:442: PossibleUserWarning: The dataloader, test_dataloader, does not have many workers which may be a bottleneck. Consider increasing the value of the `num_workers` argument` (try 12 which is the number of cpus on this machine) in the `DataLoader` init to improve performance.\n",
      "  rank_zero_warn(\n"
     ]
    },
    {
     "name": "stdout",
     "output_type": "stream",
     "text": [
      "Testing DataLoader 0: 100%|██████████| 32/32 [00:06<00:00,  4.71it/s]"
     ]
    },
    {
     "name": "stderr",
     "output_type": "stream",
     "text": [
      "/Users/duc/Desktop/Projects/adapters-vs-fairness/notebooks/../src/evaluation/equalized_odds.py:116: UserWarning: To copy construct from a tensor, it is recommended to use sourceTensor.clone().detach() or sourceTensor.clone().detach().requires_grad_(True), rather than torch.tensor(sourceTensor).\n",
      "  num_a_values = torch.tensor(sensitive_attributes).shape[1]\n"
     ]
    },
    {
     "name": "stdout",
     "output_type": "stream",
     "text": [
      "Testing DataLoader 0: 100%|██████████| 32/32 [00:07<00:00,  4.36it/s]\n"
     ]
    },
    {
     "data": {
      "text/html": [
       "<pre style=\"white-space:pre;overflow-x:auto;line-height:normal;font-family:Menlo,'DejaVu Sans Mono',consolas,'Courier New',monospace\">┏━━━━━━━━━━━━━━━━━━━━━━━━━━━━━━━━━━━━━━━━━━━━━━━━━━━━━━┳━━━━━━━━━━━━━━━━━━━━━━━━━━━━━━━━━━━━━━━━━━━━━━━━━━━━━━┓\n",
       "┃<span style=\"font-weight: bold\">                     Test metric                      </span>┃<span style=\"font-weight: bold\">                     DataLoader 0                     </span>┃\n",
       "┡━━━━━━━━━━━━━━━━━━━━━━━━━━━━━━━━━━━━━━━━━━━━━━━━━━━━━━╇━━━━━━━━━━━━━━━━━━━━━━━━━━━━━━━━━━━━━━━━━━━━━━━━━━━━━━┩\n",
       "│<span style=\"color: #008080; text-decoration-color: #008080\">                       test/acc                       </span>│<span style=\"color: #800080; text-decoration-color: #800080\">                  0.7408430576324463                  </span>│\n",
       "│<span style=\"color: #008080; text-decoration-color: #008080\"> test/balanced_accuracy/gender_and_sexual_orientation </span>│<span style=\"color: #800080; text-decoration-color: #800080\">                  0.747474730014801                   </span>│\n",
       "│<span style=\"color: #008080; text-decoration-color: #008080\">             test/balanced_accuracy/race              </span>│<span style=\"color: #800080; text-decoration-color: #800080\">                  0.7222222089767456                  </span>│\n",
       "│<span style=\"color: #008080; text-decoration-color: #008080\">           test/balanced_accuracy/religion            </span>│<span style=\"color: #800080; text-decoration-color: #800080\">                  0.7142857313156128                  </span>│\n",
       "│<span style=\"color: #008080; text-decoration-color: #008080\">        test/eo/gender_and_sexual_orientation         </span>│<span style=\"color: #800080; text-decoration-color: #800080\">                  0.2445651888847351                  </span>│\n",
       "│<span style=\"color: #008080; text-decoration-color: #008080\">                     test/eo/race                     </span>│<span style=\"color: #800080; text-decoration-color: #800080\">                 0.26236703991889954                  </span>│\n",
       "│<span style=\"color: #008080; text-decoration-color: #008080\">                   test/eo/religion                   </span>│<span style=\"color: #800080; text-decoration-color: #800080\">                 0.28448960185050964                  </span>│\n",
       "│<span style=\"color: #008080; text-decoration-color: #008080\">        test/fnr/gender_and_sexual_orientation        </span>│<span style=\"color: #800080; text-decoration-color: #800080\">                         0.0                          </span>│\n",
       "│<span style=\"color: #008080; text-decoration-color: #008080\">     test/fnr/gender_and_sexual_orientation_comp      </span>│<span style=\"color: #800080; text-decoration-color: #800080\">                  0.2445652186870575                  </span>│\n",
       "│<span style=\"color: #008080; text-decoration-color: #008080\">                    test/fnr/race                     </span>│<span style=\"color: #800080; text-decoration-color: #800080\">                         0.0                          </span>│\n",
       "│<span style=\"color: #008080; text-decoration-color: #008080\">                  test/fnr/race_comp                  </span>│<span style=\"color: #800080; text-decoration-color: #800080\">                 0.23076923191547394                  </span>│\n",
       "│<span style=\"color: #008080; text-decoration-color: #008080\">                  test/fnr/religion                   </span>│<span style=\"color: #800080; text-decoration-color: #800080\">                         0.0                          </span>│\n",
       "│<span style=\"color: #008080; text-decoration-color: #008080\">                test/fnr/religion_comp                </span>│<span style=\"color: #800080; text-decoration-color: #800080\">                 0.22959183156490326                  </span>│\n",
       "│<span style=\"color: #008080; text-decoration-color: #008080\">     test/fnr_diff/gender_and_sexual_orientation      </span>│<span style=\"color: #800080; text-decoration-color: #800080\">                  0.2445652186870575                  </span>│\n",
       "│<span style=\"color: #008080; text-decoration-color: #008080\">                  test/fnr_diff/race                  </span>│<span style=\"color: #800080; text-decoration-color: #800080\">                 0.23076923191547394                  </span>│\n",
       "│<span style=\"color: #008080; text-decoration-color: #008080\">                test/fnr_diff/religion                </span>│<span style=\"color: #800080; text-decoration-color: #800080\">                 0.22959183156490326                  </span>│\n",
       "│<span style=\"color: #008080; text-decoration-color: #008080\">        test/fpr/gender_and_sexual_orientation        </span>│<span style=\"color: #800080; text-decoration-color: #800080\">                  0.5050504803657532                  </span>│\n",
       "│<span style=\"color: #008080; text-decoration-color: #008080\">     test/fpr/gender_and_sexual_orientation_comp      </span>│<span style=\"color: #800080; text-decoration-color: #800080\">                  0.2860798239707947                  </span>│\n",
       "│<span style=\"color: #008080; text-decoration-color: #008080\">                    test/fpr/race                     </span>│<span style=\"color: #800080; text-decoration-color: #800080\">                  0.5555555820465088                  </span>│\n",
       "│<span style=\"color: #008080; text-decoration-color: #008080\">                  test/fpr/race_comp                  </span>│<span style=\"color: #800080; text-decoration-color: #800080\">                 0.29318854212760925                  </span>│\n",
       "│<span style=\"color: #008080; text-decoration-color: #008080\">                  test/fpr/religion                   </span>│<span style=\"color: #800080; text-decoration-color: #800080\">                  0.5714285969734192                  </span>│\n",
       "│<span style=\"color: #008080; text-decoration-color: #008080\">                test/fpr/religion_comp                </span>│<span style=\"color: #800080; text-decoration-color: #800080\">                 0.28693899512290955                  </span>│\n",
       "│<span style=\"color: #008080; text-decoration-color: #008080\">        test/tpr/gender_and_sexual_orientation        </span>│<span style=\"color: #800080; text-decoration-color: #800080\">                         1.0                          </span>│\n",
       "│<span style=\"color: #008080; text-decoration-color: #008080\">     test/tpr/gender_and_sexual_orientation_comp      </span>│<span style=\"color: #800080; text-decoration-color: #800080\">                  0.7554348111152649                  </span>│\n",
       "│<span style=\"color: #008080; text-decoration-color: #008080\">                    test/tpr/race                     </span>│<span style=\"color: #800080; text-decoration-color: #800080\">                         1.0                          </span>│\n",
       "│<span style=\"color: #008080; text-decoration-color: #008080\">                  test/tpr/race_comp                  </span>│<span style=\"color: #800080; text-decoration-color: #800080\">                  0.7692307829856873                  </span>│\n",
       "│<span style=\"color: #008080; text-decoration-color: #008080\">                  test/tpr/religion                   </span>│<span style=\"color: #800080; text-decoration-color: #800080\">                         1.0                          </span>│\n",
       "│<span style=\"color: #008080; text-decoration-color: #008080\">                test/tpr/religion_comp                </span>│<span style=\"color: #800080; text-decoration-color: #800080\">                  0.7704081535339355                  </span>│\n",
       "└──────────────────────────────────────────────────────┴──────────────────────────────────────────────────────┘\n",
       "</pre>\n"
      ],
      "text/plain": [
       "┏━━━━━━━━━━━━━━━━━━━━━━━━━━━━━━━━━━━━━━━━━━━━━━━━━━━━━━┳━━━━━━━━━━━━━━━━━━━━━━━━━━━━━━━━━━━━━━━━━━━━━━━━━━━━━━┓\n",
       "┃\u001b[1m \u001b[0m\u001b[1m                    Test metric                     \u001b[0m\u001b[1m \u001b[0m┃\u001b[1m \u001b[0m\u001b[1m                    DataLoader 0                    \u001b[0m\u001b[1m \u001b[0m┃\n",
       "┡━━━━━━━━━━━━━━━━━━━━━━━━━━━━━━━━━━━━━━━━━━━━━━━━━━━━━━╇━━━━━━━━━━━━━━━━━━━━━━━━━━━━━━━━━━━━━━━━━━━━━━━━━━━━━━┩\n",
       "│\u001b[36m \u001b[0m\u001b[36m                      test/acc                      \u001b[0m\u001b[36m \u001b[0m│\u001b[35m \u001b[0m\u001b[35m                 0.7408430576324463                 \u001b[0m\u001b[35m \u001b[0m│\n",
       "│\u001b[36m \u001b[0m\u001b[36mtest/balanced_accuracy/gender_and_sexual_orientation\u001b[0m\u001b[36m \u001b[0m│\u001b[35m \u001b[0m\u001b[35m                 0.747474730014801                  \u001b[0m\u001b[35m \u001b[0m│\n",
       "│\u001b[36m \u001b[0m\u001b[36m            test/balanced_accuracy/race             \u001b[0m\u001b[36m \u001b[0m│\u001b[35m \u001b[0m\u001b[35m                 0.7222222089767456                 \u001b[0m\u001b[35m \u001b[0m│\n",
       "│\u001b[36m \u001b[0m\u001b[36m          test/balanced_accuracy/religion           \u001b[0m\u001b[36m \u001b[0m│\u001b[35m \u001b[0m\u001b[35m                 0.7142857313156128                 \u001b[0m\u001b[35m \u001b[0m│\n",
       "│\u001b[36m \u001b[0m\u001b[36m       test/eo/gender_and_sexual_orientation        \u001b[0m\u001b[36m \u001b[0m│\u001b[35m \u001b[0m\u001b[35m                 0.2445651888847351                 \u001b[0m\u001b[35m \u001b[0m│\n",
       "│\u001b[36m \u001b[0m\u001b[36m                    test/eo/race                    \u001b[0m\u001b[36m \u001b[0m│\u001b[35m \u001b[0m\u001b[35m                0.26236703991889954                 \u001b[0m\u001b[35m \u001b[0m│\n",
       "│\u001b[36m \u001b[0m\u001b[36m                  test/eo/religion                  \u001b[0m\u001b[36m \u001b[0m│\u001b[35m \u001b[0m\u001b[35m                0.28448960185050964                 \u001b[0m\u001b[35m \u001b[0m│\n",
       "│\u001b[36m \u001b[0m\u001b[36m       test/fnr/gender_and_sexual_orientation       \u001b[0m\u001b[36m \u001b[0m│\u001b[35m \u001b[0m\u001b[35m                        0.0                         \u001b[0m\u001b[35m \u001b[0m│\n",
       "│\u001b[36m \u001b[0m\u001b[36m    test/fnr/gender_and_sexual_orientation_comp     \u001b[0m\u001b[36m \u001b[0m│\u001b[35m \u001b[0m\u001b[35m                 0.2445652186870575                 \u001b[0m\u001b[35m \u001b[0m│\n",
       "│\u001b[36m \u001b[0m\u001b[36m                   test/fnr/race                    \u001b[0m\u001b[36m \u001b[0m│\u001b[35m \u001b[0m\u001b[35m                        0.0                         \u001b[0m\u001b[35m \u001b[0m│\n",
       "│\u001b[36m \u001b[0m\u001b[36m                 test/fnr/race_comp                 \u001b[0m\u001b[36m \u001b[0m│\u001b[35m \u001b[0m\u001b[35m                0.23076923191547394                 \u001b[0m\u001b[35m \u001b[0m│\n",
       "│\u001b[36m \u001b[0m\u001b[36m                 test/fnr/religion                  \u001b[0m\u001b[36m \u001b[0m│\u001b[35m \u001b[0m\u001b[35m                        0.0                         \u001b[0m\u001b[35m \u001b[0m│\n",
       "│\u001b[36m \u001b[0m\u001b[36m               test/fnr/religion_comp               \u001b[0m\u001b[36m \u001b[0m│\u001b[35m \u001b[0m\u001b[35m                0.22959183156490326                 \u001b[0m\u001b[35m \u001b[0m│\n",
       "│\u001b[36m \u001b[0m\u001b[36m    test/fnr_diff/gender_and_sexual_orientation     \u001b[0m\u001b[36m \u001b[0m│\u001b[35m \u001b[0m\u001b[35m                 0.2445652186870575                 \u001b[0m\u001b[35m \u001b[0m│\n",
       "│\u001b[36m \u001b[0m\u001b[36m                 test/fnr_diff/race                 \u001b[0m\u001b[36m \u001b[0m│\u001b[35m \u001b[0m\u001b[35m                0.23076923191547394                 \u001b[0m\u001b[35m \u001b[0m│\n",
       "│\u001b[36m \u001b[0m\u001b[36m               test/fnr_diff/religion               \u001b[0m\u001b[36m \u001b[0m│\u001b[35m \u001b[0m\u001b[35m                0.22959183156490326                 \u001b[0m\u001b[35m \u001b[0m│\n",
       "│\u001b[36m \u001b[0m\u001b[36m       test/fpr/gender_and_sexual_orientation       \u001b[0m\u001b[36m \u001b[0m│\u001b[35m \u001b[0m\u001b[35m                 0.5050504803657532                 \u001b[0m\u001b[35m \u001b[0m│\n",
       "│\u001b[36m \u001b[0m\u001b[36m    test/fpr/gender_and_sexual_orientation_comp     \u001b[0m\u001b[36m \u001b[0m│\u001b[35m \u001b[0m\u001b[35m                 0.2860798239707947                 \u001b[0m\u001b[35m \u001b[0m│\n",
       "│\u001b[36m \u001b[0m\u001b[36m                   test/fpr/race                    \u001b[0m\u001b[36m \u001b[0m│\u001b[35m \u001b[0m\u001b[35m                 0.5555555820465088                 \u001b[0m\u001b[35m \u001b[0m│\n",
       "│\u001b[36m \u001b[0m\u001b[36m                 test/fpr/race_comp                 \u001b[0m\u001b[36m \u001b[0m│\u001b[35m \u001b[0m\u001b[35m                0.29318854212760925                 \u001b[0m\u001b[35m \u001b[0m│\n",
       "│\u001b[36m \u001b[0m\u001b[36m                 test/fpr/religion                  \u001b[0m\u001b[36m \u001b[0m│\u001b[35m \u001b[0m\u001b[35m                 0.5714285969734192                 \u001b[0m\u001b[35m \u001b[0m│\n",
       "│\u001b[36m \u001b[0m\u001b[36m               test/fpr/religion_comp               \u001b[0m\u001b[36m \u001b[0m│\u001b[35m \u001b[0m\u001b[35m                0.28693899512290955                 \u001b[0m\u001b[35m \u001b[0m│\n",
       "│\u001b[36m \u001b[0m\u001b[36m       test/tpr/gender_and_sexual_orientation       \u001b[0m\u001b[36m \u001b[0m│\u001b[35m \u001b[0m\u001b[35m                        1.0                         \u001b[0m\u001b[35m \u001b[0m│\n",
       "│\u001b[36m \u001b[0m\u001b[36m    test/tpr/gender_and_sexual_orientation_comp     \u001b[0m\u001b[36m \u001b[0m│\u001b[35m \u001b[0m\u001b[35m                 0.7554348111152649                 \u001b[0m\u001b[35m \u001b[0m│\n",
       "│\u001b[36m \u001b[0m\u001b[36m                   test/tpr/race                    \u001b[0m\u001b[36m \u001b[0m│\u001b[35m \u001b[0m\u001b[35m                        1.0                         \u001b[0m\u001b[35m \u001b[0m│\n",
       "│\u001b[36m \u001b[0m\u001b[36m                 test/tpr/race_comp                 \u001b[0m\u001b[36m \u001b[0m│\u001b[35m \u001b[0m\u001b[35m                 0.7692307829856873                 \u001b[0m\u001b[35m \u001b[0m│\n",
       "│\u001b[36m \u001b[0m\u001b[36m                 test/tpr/religion                  \u001b[0m\u001b[36m \u001b[0m│\u001b[35m \u001b[0m\u001b[35m                        1.0                         \u001b[0m\u001b[35m \u001b[0m│\n",
       "│\u001b[36m \u001b[0m\u001b[36m               test/tpr/religion_comp               \u001b[0m\u001b[36m \u001b[0m│\u001b[35m \u001b[0m\u001b[35m                 0.7704081535339355                 \u001b[0m\u001b[35m \u001b[0m│\n",
       "└──────────────────────────────────────────────────────┴──────────────────────────────────────────────────────┘\n"
      ]
     },
     "metadata": {},
     "output_type": "display_data"
    },
    {
     "name": "stderr",
     "output_type": "stream",
     "text": [
      "Load CSV File...\n",
      "Create coarsed grained annotation...\n",
      "Tokenize Dataset...\n",
      "Map: 100%|██████████| 1000/1000 [00:00<00:00, 5254.06 examples/s]\n",
      "Some weights of the model checkpoint at distilbert-base-uncased were not used when initializing DistilBertForSequenceClassification: ['vocab_transform.weight', 'vocab_layer_norm.bias', 'vocab_transform.bias', 'vocab_layer_norm.weight', 'vocab_projector.bias']\n",
      "- This IS expected if you are initializing DistilBertForSequenceClassification from the checkpoint of a model trained on another task or with another architecture (e.g. initializing a BertForSequenceClassification model from a BertForPreTraining model).\n",
      "- This IS NOT expected if you are initializing DistilBertForSequenceClassification from the checkpoint of a model that you expect to be exactly identical (initializing a BertForSequenceClassification model from a BertForSequenceClassification model).\n",
      "Some weights of DistilBertForSequenceClassification were not initialized from the model checkpoint at distilbert-base-uncased and are newly initialized: ['classifier.bias', 'pre_classifier.bias', 'classifier.weight', 'pre_classifier.weight']\n",
      "You should probably TRAIN this model on a down-stream task to be able to use it for predictions and inference.\n",
      "Restoring states from the checkpoint path at /Users/duc/Desktop/Projects/adapters-vs-fairness/checkpoints/last-v29.ckpt\n",
      "Loaded model weights from the checkpoint at /Users/duc/Desktop/Projects/adapters-vs-fairness/checkpoints/last-v29.ckpt\n",
      "/Users/duc/anaconda3/envs/adapters_fairness_notebook/lib/python3.9/site-packages/pytorch_lightning/trainer/connectors/data_connector.py:442: PossibleUserWarning: The dataloader, test_dataloader, does not have many workers which may be a bottleneck. Consider increasing the value of the `num_workers` argument` (try 12 which is the number of cpus on this machine) in the `DataLoader` init to improve performance.\n",
      "  rank_zero_warn(\n"
     ]
    },
    {
     "name": "stdout",
     "output_type": "stream",
     "text": [
      "Testing DataLoader 0: 100%|██████████| 32/32 [00:06<00:00,  4.78it/s]"
     ]
    },
    {
     "name": "stderr",
     "output_type": "stream",
     "text": [
      "/Users/duc/Desktop/Projects/adapters-vs-fairness/notebooks/../src/evaluation/equalized_odds.py:116: UserWarning: To copy construct from a tensor, it is recommended to use sourceTensor.clone().detach() or sourceTensor.clone().detach().requires_grad_(True), rather than torch.tensor(sourceTensor).\n",
      "  num_a_values = torch.tensor(sensitive_attributes).shape[1]\n"
     ]
    },
    {
     "name": "stdout",
     "output_type": "stream",
     "text": [
      "Testing DataLoader 0: 100%|██████████| 32/32 [00:07<00:00,  4.35it/s]\n"
     ]
    },
    {
     "data": {
      "text/html": [
       "<pre style=\"white-space:pre;overflow-x:auto;line-height:normal;font-family:Menlo,'DejaVu Sans Mono',consolas,'Courier New',monospace\">┏━━━━━━━━━━━━━━━━━━━━━━━━━━━━━━━━━━━━━━━━━━━━━━━━━━━━━━┳━━━━━━━━━━━━━━━━━━━━━━━━━━━━━━━━━━━━━━━━━━━━━━━━━━━━━━┓\n",
       "┃<span style=\"font-weight: bold\">                     Test metric                      </span>┃<span style=\"font-weight: bold\">                     DataLoader 0                     </span>┃\n",
       "┡━━━━━━━━━━━━━━━━━━━━━━━━━━━━━━━━━━━━━━━━━━━━━━━━━━━━━━╇━━━━━━━━━━━━━━━━━━━━━━━━━━━━━━━━━━━━━━━━━━━━━━━━━━━━━━┩\n",
       "│<span style=\"color: #008080; text-decoration-color: #008080\">                       test/acc                       </span>│<span style=\"color: #800080; text-decoration-color: #800080\">                  0.7371184825897217                  </span>│\n",
       "│<span style=\"color: #008080; text-decoration-color: #008080\"> test/balanced_accuracy/gender_and_sexual_orientation </span>│<span style=\"color: #800080; text-decoration-color: #800080\">                  0.7071490287780762                  </span>│\n",
       "│<span style=\"color: #008080; text-decoration-color: #008080\">             test/balanced_accuracy/race              </span>│<span style=\"color: #800080; text-decoration-color: #800080\">                  0.6805555820465088                  </span>│\n",
       "│<span style=\"color: #008080; text-decoration-color: #008080\">           test/balanced_accuracy/religion            </span>│<span style=\"color: #800080; text-decoration-color: #800080\">                       0.734375                       </span>│\n",
       "│<span style=\"color: #008080; text-decoration-color: #008080\">        test/eo/gender_and_sexual_orientation         </span>│<span style=\"color: #800080; text-decoration-color: #800080\">                 0.24173173308372498                  </span>│\n",
       "│<span style=\"color: #008080; text-decoration-color: #008080\">                     test/eo/race                     </span>│<span style=\"color: #800080; text-decoration-color: #800080\">                 0.36234843730926514                  </span>│\n",
       "│<span style=\"color: #008080; text-decoration-color: #008080\">                   test/eo/religion                   </span>│<span style=\"color: #800080; text-decoration-color: #800080\">                  0.2590404450893402                  </span>│\n",
       "│<span style=\"color: #008080; text-decoration-color: #008080\">        test/fnr/gender_and_sexual_orientation        </span>│<span style=\"color: #800080; text-decoration-color: #800080\">                 0.07407407462596893                  </span>│\n",
       "│<span style=\"color: #008080; text-decoration-color: #008080\">     test/fnr/gender_and_sexual_orientation_comp      </span>│<span style=\"color: #800080; text-decoration-color: #800080\">                  0.2633744776248932                  </span>│\n",
       "│<span style=\"color: #008080; text-decoration-color: #008080\">                    test/fnr/race                     </span>│<span style=\"color: #800080; text-decoration-color: #800080\">                         0.0                          </span>│\n",
       "│<span style=\"color: #008080; text-decoration-color: #008080\">                  test/fnr/race_comp                  </span>│<span style=\"color: #800080; text-decoration-color: #800080\">                 0.25581395626068115                  </span>│\n",
       "│<span style=\"color: #008080; text-decoration-color: #008080\">                  test/fnr/religion                   </span>│<span style=\"color: #800080; text-decoration-color: #800080\">                         0.0                          </span>│\n",
       "│<span style=\"color: #008080; text-decoration-color: #008080\">                test/fnr/religion_comp                </span>│<span style=\"color: #800080; text-decoration-color: #800080\">                 0.25287356972694397                  </span>│\n",
       "│<span style=\"color: #008080; text-decoration-color: #008080\">     test/fnr_diff/gender_and_sexual_orientation      </span>│<span style=\"color: #800080; text-decoration-color: #800080\">                 0.18930040299892426                  </span>│\n",
       "│<span style=\"color: #008080; text-decoration-color: #008080\">                  test/fnr_diff/race                  </span>│<span style=\"color: #800080; text-decoration-color: #800080\">                 0.25581395626068115                  </span>│\n",
       "│<span style=\"color: #008080; text-decoration-color: #008080\">                test/fnr_diff/religion                </span>│<span style=\"color: #800080; text-decoration-color: #800080\">                 0.25287356972694397                  </span>│\n",
       "│<span style=\"color: #008080; text-decoration-color: #008080\">        test/fpr/gender_and_sexual_orientation        </span>│<span style=\"color: #800080; text-decoration-color: #800080\">                  0.5116279125213623                  </span>│\n",
       "│<span style=\"color: #008080; text-decoration-color: #008080\">     test/fpr/gender_and_sexual_orientation_comp      </span>│<span style=\"color: #800080; text-decoration-color: #800080\">                 0.26989617943763733                  </span>│\n",
       "│<span style=\"color: #008080; text-decoration-color: #008080\">                    test/fpr/race                     </span>│<span style=\"color: #800080; text-decoration-color: #800080\">                  0.6388888955116272                  </span>│\n",
       "│<span style=\"color: #008080; text-decoration-color: #008080\">                  test/fpr/race_comp                  </span>│<span style=\"color: #800080; text-decoration-color: #800080\">                 0.27654045820236206                  </span>│\n",
       "│<span style=\"color: #008080; text-decoration-color: #008080\">                  test/fpr/religion                   </span>│<span style=\"color: #800080; text-decoration-color: #800080\">                       0.53125                        </span>│\n",
       "│<span style=\"color: #008080; text-decoration-color: #008080\">                test/fpr/religion_comp                </span>│<span style=\"color: #800080; text-decoration-color: #800080\">                  0.2722095549106598                  </span>│\n",
       "│<span style=\"color: #008080; text-decoration-color: #008080\">        test/tpr/gender_and_sexual_orientation        </span>│<span style=\"color: #800080; text-decoration-color: #800080\">                  0.9259259104728699                  </span>│\n",
       "│<span style=\"color: #008080; text-decoration-color: #008080\">     test/tpr/gender_and_sexual_orientation_comp      </span>│<span style=\"color: #800080; text-decoration-color: #800080\">                  0.7366254925727844                  </span>│\n",
       "│<span style=\"color: #008080; text-decoration-color: #008080\">                    test/tpr/race                     </span>│<span style=\"color: #800080; text-decoration-color: #800080\">                         1.0                          </span>│\n",
       "│<span style=\"color: #008080; text-decoration-color: #008080\">                  test/tpr/race_comp                  </span>│<span style=\"color: #800080; text-decoration-color: #800080\">                  0.7441860437393188                  </span>│\n",
       "│<span style=\"color: #008080; text-decoration-color: #008080\">                  test/tpr/religion                   </span>│<span style=\"color: #800080; text-decoration-color: #800080\">                         1.0                          </span>│\n",
       "│<span style=\"color: #008080; text-decoration-color: #008080\">                test/tpr/religion_comp                </span>│<span style=\"color: #800080; text-decoration-color: #800080\">                  0.7471264600753784                  </span>│\n",
       "└──────────────────────────────────────────────────────┴──────────────────────────────────────────────────────┘\n",
       "</pre>\n"
      ],
      "text/plain": [
       "┏━━━━━━━━━━━━━━━━━━━━━━━━━━━━━━━━━━━━━━━━━━━━━━━━━━━━━━┳━━━━━━━━━━━━━━━━━━━━━━━━━━━━━━━━━━━━━━━━━━━━━━━━━━━━━━┓\n",
       "┃\u001b[1m \u001b[0m\u001b[1m                    Test metric                     \u001b[0m\u001b[1m \u001b[0m┃\u001b[1m \u001b[0m\u001b[1m                    DataLoader 0                    \u001b[0m\u001b[1m \u001b[0m┃\n",
       "┡━━━━━━━━━━━━━━━━━━━━━━━━━━━━━━━━━━━━━━━━━━━━━━━━━━━━━━╇━━━━━━━━━━━━━━━━━━━━━━━━━━━━━━━━━━━━━━━━━━━━━━━━━━━━━━┩\n",
       "│\u001b[36m \u001b[0m\u001b[36m                      test/acc                      \u001b[0m\u001b[36m \u001b[0m│\u001b[35m \u001b[0m\u001b[35m                 0.7371184825897217                 \u001b[0m\u001b[35m \u001b[0m│\n",
       "│\u001b[36m \u001b[0m\u001b[36mtest/balanced_accuracy/gender_and_sexual_orientation\u001b[0m\u001b[36m \u001b[0m│\u001b[35m \u001b[0m\u001b[35m                 0.7071490287780762                 \u001b[0m\u001b[35m \u001b[0m│\n",
       "│\u001b[36m \u001b[0m\u001b[36m            test/balanced_accuracy/race             \u001b[0m\u001b[36m \u001b[0m│\u001b[35m \u001b[0m\u001b[35m                 0.6805555820465088                 \u001b[0m\u001b[35m \u001b[0m│\n",
       "│\u001b[36m \u001b[0m\u001b[36m          test/balanced_accuracy/religion           \u001b[0m\u001b[36m \u001b[0m│\u001b[35m \u001b[0m\u001b[35m                      0.734375                      \u001b[0m\u001b[35m \u001b[0m│\n",
       "│\u001b[36m \u001b[0m\u001b[36m       test/eo/gender_and_sexual_orientation        \u001b[0m\u001b[36m \u001b[0m│\u001b[35m \u001b[0m\u001b[35m                0.24173173308372498                 \u001b[0m\u001b[35m \u001b[0m│\n",
       "│\u001b[36m \u001b[0m\u001b[36m                    test/eo/race                    \u001b[0m\u001b[36m \u001b[0m│\u001b[35m \u001b[0m\u001b[35m                0.36234843730926514                 \u001b[0m\u001b[35m \u001b[0m│\n",
       "│\u001b[36m \u001b[0m\u001b[36m                  test/eo/religion                  \u001b[0m\u001b[36m \u001b[0m│\u001b[35m \u001b[0m\u001b[35m                 0.2590404450893402                 \u001b[0m\u001b[35m \u001b[0m│\n",
       "│\u001b[36m \u001b[0m\u001b[36m       test/fnr/gender_and_sexual_orientation       \u001b[0m\u001b[36m \u001b[0m│\u001b[35m \u001b[0m\u001b[35m                0.07407407462596893                 \u001b[0m\u001b[35m \u001b[0m│\n",
       "│\u001b[36m \u001b[0m\u001b[36m    test/fnr/gender_and_sexual_orientation_comp     \u001b[0m\u001b[36m \u001b[0m│\u001b[35m \u001b[0m\u001b[35m                 0.2633744776248932                 \u001b[0m\u001b[35m \u001b[0m│\n",
       "│\u001b[36m \u001b[0m\u001b[36m                   test/fnr/race                    \u001b[0m\u001b[36m \u001b[0m│\u001b[35m \u001b[0m\u001b[35m                        0.0                         \u001b[0m\u001b[35m \u001b[0m│\n",
       "│\u001b[36m \u001b[0m\u001b[36m                 test/fnr/race_comp                 \u001b[0m\u001b[36m \u001b[0m│\u001b[35m \u001b[0m\u001b[35m                0.25581395626068115                 \u001b[0m\u001b[35m \u001b[0m│\n",
       "│\u001b[36m \u001b[0m\u001b[36m                 test/fnr/religion                  \u001b[0m\u001b[36m \u001b[0m│\u001b[35m \u001b[0m\u001b[35m                        0.0                         \u001b[0m\u001b[35m \u001b[0m│\n",
       "│\u001b[36m \u001b[0m\u001b[36m               test/fnr/religion_comp               \u001b[0m\u001b[36m \u001b[0m│\u001b[35m \u001b[0m\u001b[35m                0.25287356972694397                 \u001b[0m\u001b[35m \u001b[0m│\n",
       "│\u001b[36m \u001b[0m\u001b[36m    test/fnr_diff/gender_and_sexual_orientation     \u001b[0m\u001b[36m \u001b[0m│\u001b[35m \u001b[0m\u001b[35m                0.18930040299892426                 \u001b[0m\u001b[35m \u001b[0m│\n",
       "│\u001b[36m \u001b[0m\u001b[36m                 test/fnr_diff/race                 \u001b[0m\u001b[36m \u001b[0m│\u001b[35m \u001b[0m\u001b[35m                0.25581395626068115                 \u001b[0m\u001b[35m \u001b[0m│\n",
       "│\u001b[36m \u001b[0m\u001b[36m               test/fnr_diff/religion               \u001b[0m\u001b[36m \u001b[0m│\u001b[35m \u001b[0m\u001b[35m                0.25287356972694397                 \u001b[0m\u001b[35m \u001b[0m│\n",
       "│\u001b[36m \u001b[0m\u001b[36m       test/fpr/gender_and_sexual_orientation       \u001b[0m\u001b[36m \u001b[0m│\u001b[35m \u001b[0m\u001b[35m                 0.5116279125213623                 \u001b[0m\u001b[35m \u001b[0m│\n",
       "│\u001b[36m \u001b[0m\u001b[36m    test/fpr/gender_and_sexual_orientation_comp     \u001b[0m\u001b[36m \u001b[0m│\u001b[35m \u001b[0m\u001b[35m                0.26989617943763733                 \u001b[0m\u001b[35m \u001b[0m│\n",
       "│\u001b[36m \u001b[0m\u001b[36m                   test/fpr/race                    \u001b[0m\u001b[36m \u001b[0m│\u001b[35m \u001b[0m\u001b[35m                 0.6388888955116272                 \u001b[0m\u001b[35m \u001b[0m│\n",
       "│\u001b[36m \u001b[0m\u001b[36m                 test/fpr/race_comp                 \u001b[0m\u001b[36m \u001b[0m│\u001b[35m \u001b[0m\u001b[35m                0.27654045820236206                 \u001b[0m\u001b[35m \u001b[0m│\n",
       "│\u001b[36m \u001b[0m\u001b[36m                 test/fpr/religion                  \u001b[0m\u001b[36m \u001b[0m│\u001b[35m \u001b[0m\u001b[35m                      0.53125                       \u001b[0m\u001b[35m \u001b[0m│\n",
       "│\u001b[36m \u001b[0m\u001b[36m               test/fpr/religion_comp               \u001b[0m\u001b[36m \u001b[0m│\u001b[35m \u001b[0m\u001b[35m                 0.2722095549106598                 \u001b[0m\u001b[35m \u001b[0m│\n",
       "│\u001b[36m \u001b[0m\u001b[36m       test/tpr/gender_and_sexual_orientation       \u001b[0m\u001b[36m \u001b[0m│\u001b[35m \u001b[0m\u001b[35m                 0.9259259104728699                 \u001b[0m\u001b[35m \u001b[0m│\n",
       "│\u001b[36m \u001b[0m\u001b[36m    test/tpr/gender_and_sexual_orientation_comp     \u001b[0m\u001b[36m \u001b[0m│\u001b[35m \u001b[0m\u001b[35m                 0.7366254925727844                 \u001b[0m\u001b[35m \u001b[0m│\n",
       "│\u001b[36m \u001b[0m\u001b[36m                   test/tpr/race                    \u001b[0m\u001b[36m \u001b[0m│\u001b[35m \u001b[0m\u001b[35m                        1.0                         \u001b[0m\u001b[35m \u001b[0m│\n",
       "│\u001b[36m \u001b[0m\u001b[36m                 test/tpr/race_comp                 \u001b[0m\u001b[36m \u001b[0m│\u001b[35m \u001b[0m\u001b[35m                 0.7441860437393188                 \u001b[0m\u001b[35m \u001b[0m│\n",
       "│\u001b[36m \u001b[0m\u001b[36m                 test/tpr/religion                  \u001b[0m\u001b[36m \u001b[0m│\u001b[35m \u001b[0m\u001b[35m                        1.0                         \u001b[0m\u001b[35m \u001b[0m│\n",
       "│\u001b[36m \u001b[0m\u001b[36m               test/tpr/religion_comp               \u001b[0m\u001b[36m \u001b[0m│\u001b[35m \u001b[0m\u001b[35m                 0.7471264600753784                 \u001b[0m\u001b[35m \u001b[0m│\n",
       "└──────────────────────────────────────────────────────┴──────────────────────────────────────────────────────┘\n"
      ]
     },
     "metadata": {},
     "output_type": "display_data"
    }
   ],
   "source": [
    "test_metric_1 = trainer.test(\n",
    "    model=module_1, datamodule=datamodule, ckpt_path=model_path_1)\n",
    "test_metric_2 = trainer.test(\n",
    "    model=module_2, datamodule=datamodule, ckpt_path=model_path_2)"
   ]
  },
  {
   "cell_type": "markdown",
   "id": "e17af3f1",
   "metadata": {},
   "source": [
    "## Compare two Models: Confusion Matrix"
   ]
  },
  {
   "cell_type": "code",
   "execution_count": 42,
   "id": "2a99efbd",
   "metadata": {},
   "outputs": [],
   "source": [
    "predictions_1 = module_1._eval_outputs[0][\"preds\"]\n",
    "predictions_2 = module_2._eval_outputs[0][\"preds\"]"
   ]
  },
  {
   "cell_type": "code",
   "execution_count": 43,
   "id": "087daf9f",
   "metadata": {},
   "outputs": [
    {
     "data": {
      "text/plain": [
       "tensor([[24,  0],\n",
       "        [ 0,  8]], device='mps:0')"
      ]
     },
     "execution_count": 43,
     "metadata": {},
     "output_type": "execute_result"
    }
   ],
   "source": [
    "from torchmetrics import ConfusionMatrix\n",
    "import torch\n",
    "confmat = ConfusionMatrix(task=\"binary\", num_classes=2)\n",
    "confmat.to(torch.device(\"mps\", 0))\n",
    "confmat(predictions_1, predictions_2)"
   ]
  }
 ],
 "metadata": {
  "kernelspec": {
   "display_name": "adapters_fairness",
   "language": "python",
   "name": "python3"
  },
  "language_info": {
   "codemirror_mode": {
    "name": "ipython",
    "version": 3
   },
   "file_extension": ".py",
   "mimetype": "text/x-python",
   "name": "python",
   "nbconvert_exporter": "python",
   "pygments_lexer": "ipython3",
   "version": "3.9.18"
  }
 },
 "nbformat": 4,
 "nbformat_minor": 5
}
